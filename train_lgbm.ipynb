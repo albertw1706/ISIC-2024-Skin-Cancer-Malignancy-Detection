{
 "cells": [
  {
   "cell_type": "code",
   "execution_count": 1,
   "id": "d8f9af39",
   "metadata": {
    "execution": {
     "iopub.execute_input": "2024-09-05T18:29:17.655478Z",
     "iopub.status.busy": "2024-09-05T18:29:17.655001Z",
     "iopub.status.idle": "2024-09-05T18:29:21.222035Z",
     "shell.execute_reply": "2024-09-05T18:29:21.220833Z"
    },
    "papermill": {
     "duration": 3.575442,
     "end_time": "2024-09-05T18:29:21.224791",
     "exception": false,
     "start_time": "2024-09-05T18:29:17.649349",
     "status": "completed"
    },
    "tags": []
   },
   "outputs": [],
   "source": [
    "# Define a function to train the model\n",
    "import lightgbm as lgb\n",
    "from sklearn.model_selection import StratifiedKFold\n",
    "import pandas as pd\n",
    "import numpy as np\n",
    "from scipy import stats\n",
    "import seaborn as sns\n",
    "import matplotlib.pyplot as plt\n",
    "import optuna\n",
    "from sklearn.model_selection import train_test_split\n",
    "from optuna import Trial, visualization\n",
    "import os\n",
    "from sklearn.metrics import roc_auc_score\n",
    "from sklearn.metrics import log_loss"
   ]
  },
  {
   "cell_type": "code",
   "execution_count": 2,
   "id": "aa5b151b",
   "metadata": {
    "execution": {
     "iopub.execute_input": "2024-09-05T18:29:21.233457Z",
     "iopub.status.busy": "2024-09-05T18:29:21.232827Z",
     "iopub.status.idle": "2024-09-05T18:29:21.240986Z",
     "shell.execute_reply": "2024-09-05T18:29:21.239558Z"
    },
    "papermill": {
     "duration": 0.015585,
     "end_time": "2024-09-05T18:29:21.243931",
     "exception": false,
     "start_time": "2024-09-05T18:29:21.228346",
     "status": "completed"
    },
    "tags": []
   },
   "outputs": [],
   "source": [
    "def score(solution: np.ndarray, submission: np.ndarray, min_tpr: float=0.80) -> float:\n",
    "    v_gt = abs(solution-1)\n",
    "    v_pred = np.array([1.0 - x for x in submission])\n",
    "    max_fpr = abs(1-min_tpr)\n",
    "    partial_auc_scaled = roc_auc_score(v_gt, v_pred, max_fpr=max_fpr)\n",
    "    partial_auc = 0.5 * max_fpr**2 + (max_fpr - 0.5 * max_fpr**2) / (1.0 - 0.5) * (partial_auc_scaled - 0.5)\n",
    "    return(partial_auc)\n",
    "\n",
    "def pauc_80(preds, data):\n",
    "    score_value = score(data.get_label(), preds, min_tpr=0.8)\n",
    "    return 'pauc_80', score_value, True"
   ]
  },
  {
   "cell_type": "code",
   "execution_count": 3,
   "id": "06346297",
   "metadata": {
    "execution": {
     "iopub.execute_input": "2024-09-05T18:29:21.252415Z",
     "iopub.status.busy": "2024-09-05T18:29:21.251791Z",
     "iopub.status.idle": "2024-09-05T18:29:35.001482Z",
     "shell.execute_reply": "2024-09-05T18:29:35.000283Z"
    },
    "papermill": {
     "duration": 13.757469,
     "end_time": "2024-09-05T18:29:35.004653",
     "exception": false,
     "start_time": "2024-09-05T18:29:21.247184",
     "status": "completed"
    },
    "tags": []
   },
   "outputs": [
    {
     "name": "stderr",
     "output_type": "stream",
     "text": [
      "/tmp/ipykernel_17/3679705059.py:5: FutureWarning: Downcasting behavior in `replace` is deprecated and will be removed in a future version. To retain the old behavior, explicitly call `result.infer_objects(copy=False)`. To opt-in to the future behavior, set `pd.set_option('future.no_silent_downcasting', True)`\n",
      "  df_test1['anatom_site_general'] = df_test1['anatom_site_general'].replace({'lower extremity': 0, 'head/neck': 1, 'posterior torso': 2, 'anterior torso': 3, 'upper extremity': 4, 'Unknown': 5}, regex=True)\n"
     ]
    },
    {
     "name": "stdout",
     "output_type": "stream",
     "text": [
      "['isic_id', 'target', 'anatom_site_general', 'clin_size_long_diam_mm', 'tbp_tile_type', 'tbp_lv_A', 'tbp_lv_B', 'tbp_lv_C', 'tbp_lv_H', 'tbp_lv_L', 'tbp_lv_areaMM2', 'tbp_lv_area_perim_ratio', 'tbp_lv_minorAxisMM', 'tbp_lv_nevi_confidence', 'tbp_lv_norm_border', 'tbp_lv_norm_color', 'tbp_lv_perimeterMM', 'tbp_lv_stdL']\n"
     ]
    },
    {
     "name": "stderr",
     "output_type": "stream",
     "text": [
      "/tmp/ipykernel_17/3679705059.py:6: FutureWarning: Downcasting behavior in `replace` is deprecated and will be removed in a future version. To retain the old behavior, explicitly call `result.infer_objects(copy=False)`. To opt-in to the future behavior, set `pd.set_option('future.no_silent_downcasting', True)`\n",
      "  df_test1['tbp_tile_type'] = df_test1['tbp_tile_type'].replace({'3D: white': 0, '3D: XP': 1}, regex=True)\n"
     ]
    }
   ],
   "source": [
    "# Setting up features and target\n",
    "df_raw = pd.read_csv(\"/kaggle/input/isic-2024-challenge/train-metadata.csv\", low_memory=False)\n",
    "df_test1 = df_raw.drop(['patient_id', 'age_approx', 'sex', 'image_type', 'tbp_lv_Aext', 'tbp_lv_Bext', 'tbp_lv_Cext', 'tbp_lv_Hext', 'tbp_lv_Lext', 'tbp_lv_stdLExt', 'tbp_lv_color_std_mean', 'tbp_lv_deltaA', 'tbp_lv_deltaB', 'tbp_lv_deltaL', 'tbp_lv_deltaLBnorm', 'tbp_lv_eccentricity', 'tbp_lv_location', 'tbp_lv_location_simple', 'tbp_lv_radial_color_std_max', 'tbp_lv_symm_2axis', 'tbp_lv_symm_2axis_angle', 'tbp_lv_x', 'tbp_lv_y', 'tbp_lv_z', 'attribution', 'copyright_license', 'lesion_id', 'iddx_full', 'iddx_1', 'iddx_2', 'iddx_3', 'iddx_4', 'iddx_5', 'mel_mitotic_index', 'mel_thick_mm', 'tbp_lv_dnn_lesion_confidence', 'tbp_lv_deltaLB'], axis=1)\n",
    "df_test1['anatom_site_general'] = df_test1['anatom_site_general'].fillna('Unknown')\n",
    "df_test1['anatom_site_general'] = df_test1['anatom_site_general'].replace({'lower extremity': 0, 'head/neck': 1, 'posterior torso': 2, 'anterior torso': 3, 'upper extremity': 4, 'Unknown': 5}, regex=True)\n",
    "df_test1['tbp_tile_type'] = df_test1['tbp_tile_type'].replace({'3D: white': 0, '3D: XP': 1}, regex=True)\n",
    "cat_columns = ['anatom_site_general', 'tbp_tile_type']\n",
    "columns_list = df_test1[cat_columns].columns.tolist()\n",
    "\n",
    "data = df_test1.columns.values.tolist()\n",
    "print (data)\n",
    "\n",
    "exclude = ['isic_id', 'target']\n",
    "input = [i for i in data if i not in exclude]\n",
    "\n",
    "X = df_test1[input]\n",
    "y = df_test1['target']"
   ]
  },
  {
   "cell_type": "code",
   "execution_count": 4,
   "id": "d0c661ad",
   "metadata": {
    "execution": {
     "iopub.execute_input": "2024-09-05T18:29:35.013200Z",
     "iopub.status.busy": "2024-09-05T18:29:35.012756Z",
     "iopub.status.idle": "2024-09-05T18:29:35.018221Z",
     "shell.execute_reply": "2024-09-05T18:29:35.017017Z"
    },
    "papermill": {
     "duration": 0.012437,
     "end_time": "2024-09-05T18:29:35.020568",
     "exception": false,
     "start_time": "2024-09-05T18:29:35.008131",
     "status": "completed"
    },
    "tags": []
   },
   "outputs": [],
   "source": [
    "# Create Dataset for LightGBM\n",
    "train_df_dataset = lgb.Dataset(\n",
    "X,\n",
    "y,\n",
    "categorical_feature=[0,2],  # Ensure categorical features are correctly specified\n",
    "free_raw_data=False\n",
    ")"
   ]
  },
  {
   "cell_type": "code",
   "execution_count": 5,
   "id": "36603f11",
   "metadata": {
    "execution": {
     "iopub.execute_input": "2024-09-05T18:29:35.029493Z",
     "iopub.status.busy": "2024-09-05T18:29:35.029015Z",
     "iopub.status.idle": "2024-09-05T18:29:35.035310Z",
     "shell.execute_reply": "2024-09-05T18:29:35.034138Z"
    },
    "papermill": {
     "duration": 0.01333,
     "end_time": "2024-09-05T18:29:35.037531",
     "exception": false,
     "start_time": "2024-09-05T18:29:35.024201",
     "status": "completed"
    },
    "tags": []
   },
   "outputs": [],
   "source": [
    "# Lgb parameters\n",
    "lgb_params = {\n",
    "'objective': 'binary',\n",
    "'metric': 'none',  # Use a standard metric for evaluation\n",
    "'verbose': -1,\n",
    "'learning_rate': 0.01,  # Increase if model is converging too slowly\n",
    "'num_leaves': 10,  # Reduce for simpler models\n",
    "'min_data_in_leaf': 90,  # Increase to prevent overfitting\n",
    "'pos_bagging_fraction': 0.9,  # Adjust based on variance\n",
    "'neg_bagging_fraction': 0.05,  # Adjust based on variance\n",
    "'bagging_freq': 1,  # Reduce or disable if bagging is not helping\n",
    "'feature_fraction': 1,  # Increase to use more features\n",
    "'lambda_l1': 0.25,  # Keep low or 0 if L1 regularization is not needed\n",
    "'lambda_l2': 0.1,  # Keep low or 0 if L2 regularization is not needed\n",
    "'n_jobs' : 4\n",
    "} "
   ]
  },
  {
   "cell_type": "code",
   "execution_count": 6,
   "id": "d95bdebb",
   "metadata": {
    "execution": {
     "iopub.execute_input": "2024-09-05T18:29:35.046319Z",
     "iopub.status.busy": "2024-09-05T18:29:35.045896Z",
     "iopub.status.idle": "2024-09-05T18:33:08.321255Z",
     "shell.execute_reply": "2024-09-05T18:33:08.319937Z"
    },
    "papermill": {
     "duration": 213.282623,
     "end_time": "2024-09-05T18:33:08.323617",
     "exception": false,
     "start_time": "2024-09-05T18:29:35.040994",
     "status": "completed"
    },
    "tags": []
   },
   "outputs": [
    {
     "name": "stdout",
     "output_type": "stream",
     "text": [
      "Training until validation scores don't improve for 50 rounds\n",
      "[30]\tcv_agg's valid pauc_80: 0.137182 + 0.0182989\n",
      "[60]\tcv_agg's valid pauc_80: 0.138861 + 0.016559\n",
      "[90]\tcv_agg's valid pauc_80: 0.141743 + 0.0168614\n",
      "[120]\tcv_agg's valid pauc_80: 0.143686 + 0.0173565\n",
      "[150]\tcv_agg's valid pauc_80: 0.144618 + 0.0169869\n",
      "[180]\tcv_agg's valid pauc_80: 0.145382 + 0.0166903\n",
      "[210]\tcv_agg's valid pauc_80: 0.145857 + 0.0166322\n",
      "[240]\tcv_agg's valid pauc_80: 0.146223 + 0.0165019\n",
      "[270]\tcv_agg's valid pauc_80: 0.146335 + 0.0165122\n",
      "[300]\tcv_agg's valid pauc_80: 0.146901 + 0.0160785\n",
      "[330]\tcv_agg's valid pauc_80: 0.147281 + 0.0158088\n",
      "[360]\tcv_agg's valid pauc_80: 0.147412 + 0.0158728\n",
      "[390]\tcv_agg's valid pauc_80: 0.147769 + 0.0156686\n",
      "[420]\tcv_agg's valid pauc_80: 0.147879 + 0.0156375\n",
      "[450]\tcv_agg's valid pauc_80: 0.147904 + 0.0156029\n",
      "[480]\tcv_agg's valid pauc_80: 0.148098 + 0.0152845\n",
      "[510]\tcv_agg's valid pauc_80: 0.148209 + 0.0153107\n",
      "[540]\tcv_agg's valid pauc_80: 0.148383 + 0.0154425\n",
      "[570]\tcv_agg's valid pauc_80: 0.148425 + 0.0154708\n",
      "[600]\tcv_agg's valid pauc_80: 0.148676 + 0.0151166\n",
      "[630]\tcv_agg's valid pauc_80: 0.148764 + 0.0150182\n",
      "[660]\tcv_agg's valid pauc_80: 0.148657 + 0.015005\n",
      "Early stopping, best iteration is:\n",
      "[635]\tcv_agg's valid pauc_80: 0.148852 + 0.0148916\n"
     ]
    }
   ],
   "source": [
    "kf = StratifiedKFold()\n",
    "\n",
    "cv_results = lgb.cv(\n",
    "    lgb_params,\n",
    "    train_df_dataset,\n",
    "    folds=kf.split(X, y),\n",
    "    feval=pauc_80,\n",
    "    num_boost_round=1000,\n",
    "    callbacks=[\n",
    "        lgb.early_stopping(stopping_rounds=50), \n",
    "        lgb.log_evaluation(30)\n",
    "    ],\n",
    "    stratified=True,\n",
    "    return_cvbooster=True,\n",
    ")"
   ]
  },
  {
   "cell_type": "code",
   "execution_count": 7,
   "id": "0cb33a41",
   "metadata": {
    "execution": {
     "iopub.execute_input": "2024-09-05T18:33:08.336173Z",
     "iopub.status.busy": "2024-09-05T18:33:08.335010Z",
     "iopub.status.idle": "2024-09-05T18:33:08.358591Z",
     "shell.execute_reply": "2024-09-05T18:33:08.357241Z"
    },
    "papermill": {
     "duration": 0.032757,
     "end_time": "2024-09-05T18:33:08.361415",
     "exception": false,
     "start_time": "2024-09-05T18:33:08.328658",
     "status": "completed"
    },
    "tags": []
   },
   "outputs": [
    {
     "name": "stdout",
     "output_type": "stream",
     "text": [
      "['anatom_site_general', 'clin_size_long_diam_mm', 'tbp_tile_type', 'tbp_lv_A', 'tbp_lv_B', 'tbp_lv_C', 'tbp_lv_H', 'tbp_lv_L', 'tbp_lv_areaMM2', 'tbp_lv_area_perim_ratio', 'tbp_lv_minorAxisMM', 'tbp_lv_nevi_confidence', 'tbp_lv_norm_border', 'tbp_lv_norm_color', 'tbp_lv_perimeterMM', 'tbp_lv_stdL']\n"
     ]
    },
    {
     "name": "stderr",
     "output_type": "stream",
     "text": [
      "/tmp/ipykernel_17/274080358.py:4: FutureWarning: Downcasting behavior in `replace` is deprecated and will be removed in a future version. To retain the old behavior, explicitly call `result.infer_objects(copy=False)`. To opt-in to the future behavior, set `pd.set_option('future.no_silent_downcasting', True)`\n",
      "  df_test['anatom_site_general'] = df_test['anatom_site_general'].replace({'lower extremity': 0, 'head/neck': 1, 'posterior torso': 2, 'anterior torso': 3, 'upper extremity': 4, 'Unknown': 5}, regex=True)\n",
      "/tmp/ipykernel_17/274080358.py:5: FutureWarning: Downcasting behavior in `replace` is deprecated and will be removed in a future version. To retain the old behavior, explicitly call `result.infer_objects(copy=False)`. To opt-in to the future behavior, set `pd.set_option('future.no_silent_downcasting', True)`\n",
      "  df_test['tbp_tile_type'] = df_test['tbp_tile_type'].replace({'3D: white': 0, '3D: XP': 1}, regex=True)\n"
     ]
    }
   ],
   "source": [
    "df_test_real = pd.read_csv(\"/kaggle/input/isic-2024-challenge/test-metadata.csv\", low_memory=False)\n",
    "df_test = df_test_real.drop(['isic_id', 'patient_id', 'age_approx', 'sex', 'image_type', 'tbp_lv_Aext', 'tbp_lv_Bext', 'tbp_lv_Cext', 'tbp_lv_Hext', 'tbp_lv_Lext', 'tbp_lv_stdLExt', 'tbp_lv_color_std_mean', 'tbp_lv_deltaA', 'tbp_lv_deltaB', 'tbp_lv_deltaL', 'tbp_lv_deltaLBnorm', 'tbp_lv_eccentricity', 'tbp_lv_location', 'tbp_lv_location_simple', 'tbp_lv_radial_color_std_max', 'tbp_lv_symm_2axis', 'tbp_lv_symm_2axis_angle', 'tbp_lv_x', 'tbp_lv_y', 'tbp_lv_z', 'attribution', 'copyright_license', 'tbp_lv_deltaLB'], axis=1)\n",
    "df_test['anatom_site_general'] = df_test['anatom_site_general'].fillna('Unknown')\n",
    "df_test['anatom_site_general'] = df_test['anatom_site_general'].replace({'lower extremity': 0, 'head/neck': 1, 'posterior torso': 2, 'anterior torso': 3, 'upper extremity': 4, 'Unknown': 5}, regex=True)\n",
    "df_test['tbp_tile_type'] = df_test['tbp_tile_type'].replace({'3D: white': 0, '3D: XP': 1}, regex=True)\n",
    "df_temp = df_test_real.drop(['patient_id', 'age_approx', 'sex', 'image_type', 'tbp_lv_Aext', 'tbp_lv_Bext', 'tbp_lv_Cext', 'tbp_lv_Hext', 'tbp_lv_Lext', 'tbp_lv_stdLExt', 'tbp_lv_color_std_mean', 'tbp_lv_deltaA', 'tbp_lv_deltaB', 'tbp_lv_deltaL', 'tbp_lv_deltaLBnorm', 'tbp_lv_eccentricity', 'tbp_lv_location', 'tbp_lv_location_simple', 'tbp_lv_radial_color_std_max', 'tbp_lv_symm_2axis', 'tbp_lv_symm_2axis_angle', 'tbp_lv_x', 'tbp_lv_y', 'tbp_lv_z', 'attribution', 'copyright_license', 'tbp_lv_deltaLB'], axis=1)\n",
    "                             \n",
    "data = df_test.columns.values.tolist()\n",
    "print (data)"
   ]
  },
  {
   "cell_type": "code",
   "execution_count": 8,
   "id": "b9397f90",
   "metadata": {
    "execution": {
     "iopub.execute_input": "2024-09-05T18:33:08.373991Z",
     "iopub.status.busy": "2024-09-05T18:33:08.372973Z",
     "iopub.status.idle": "2024-09-05T18:33:08.385506Z",
     "shell.execute_reply": "2024-09-05T18:33:08.384469Z"
    },
    "papermill": {
     "duration": 0.021407,
     "end_time": "2024-09-05T18:33:08.387955",
     "exception": false,
     "start_time": "2024-09-05T18:33:08.366548",
     "status": "completed"
    },
    "tags": []
   },
   "outputs": [],
   "source": [
    "models = cv_results['cvbooster'].boosters\n",
    "pred_per_cv = [model.predict(df_test) for model in models]\n",
    "pred_average = np.array(pred_per_cv).mean(axis=0)"
   ]
  },
  {
   "cell_type": "code",
   "execution_count": 9,
   "id": "5cea6ce9",
   "metadata": {
    "execution": {
     "iopub.execute_input": "2024-09-05T18:33:08.400613Z",
     "iopub.status.busy": "2024-09-05T18:33:08.399644Z",
     "iopub.status.idle": "2024-09-05T18:33:08.415960Z",
     "shell.execute_reply": "2024-09-05T18:33:08.414828Z"
    },
    "papermill": {
     "duration": 0.025422,
     "end_time": "2024-09-05T18:33:08.418557",
     "exception": false,
     "start_time": "2024-09-05T18:33:08.393135",
     "status": "completed"
    },
    "tags": []
   },
   "outputs": [
    {
     "name": "stdout",
     "output_type": "stream",
     "text": [
      "        isic_id    target\n",
      "0  ISIC_0015657  0.001688\n",
      "1  ISIC_0015729  0.000519\n",
      "2  ISIC_0015740  0.002844\n"
     ]
    }
   ],
   "source": [
    "submission_df = pd.DataFrame({'isic_id':df_temp['isic_id'].tolist(), 'target':pred_average})\n",
    "submission_df.to_csv(\"submission.csv\", index=False)\n",
    "print (submission_df.head())"
   ]
  }
 ],
 "metadata": {
  "kaggle": {
   "accelerator": "none",
   "dataSources": [
    {
     "databundleVersionId": 9094797,
     "sourceId": 63056,
     "sourceType": "competition"
    }
   ],
   "isGpuEnabled": false,
   "isInternetEnabled": false,
   "language": "python",
   "sourceType": "notebook"
  },
  "kernelspec": {
   "display_name": "Python 3",
   "language": "python",
   "name": "python3"
  },
  "language_info": {
   "codemirror_mode": {
    "name": "ipython",
    "version": 3
   },
   "file_extension": ".py",
   "mimetype": "text/x-python",
   "name": "python",
   "nbconvert_exporter": "python",
   "pygments_lexer": "ipython3",
   "version": "3.10.14"
  },
  "papermill": {
   "default_parameters": {},
   "duration": 234.404541,
   "end_time": "2024-09-05T18:33:09.349809",
   "environment_variables": {},
   "exception": null,
   "input_path": "__notebook__.ipynb",
   "output_path": "__notebook__.ipynb",
   "parameters": {},
   "start_time": "2024-09-05T18:29:14.945268",
   "version": "2.6.0"
  }
 },
 "nbformat": 4,
 "nbformat_minor": 5
}
