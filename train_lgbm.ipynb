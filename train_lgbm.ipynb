{
 "cells": [
  {
   "cell_type": "code",
   "execution_count": 1,
   "id": "3d64652b",
   "metadata": {
    "execution": {
     "iopub.execute_input": "2024-09-05T18:48:19.328606Z",
     "iopub.status.busy": "2024-09-05T18:48:19.328139Z",
     "iopub.status.idle": "2024-09-05T18:48:23.332049Z",
     "shell.execute_reply": "2024-09-05T18:48:23.330844Z"
    },
    "papermill": {
     "duration": 4.013338,
     "end_time": "2024-09-05T18:48:23.334897",
     "exception": false,
     "start_time": "2024-09-05T18:48:19.321559",
     "status": "completed"
    },
    "tags": []
   },
   "outputs": [],
   "source": [
    "# Define a function to train the model\n",
    "import lightgbm as lgb\n",
    "from sklearn.model_selection import StratifiedKFold\n",
    "import pandas as pd\n",
    "import numpy as np\n",
    "import os\n",
    "from sklearn.metrics import roc_auc_score"
   ]
  },
  {
   "cell_type": "code",
   "execution_count": 2,
   "id": "2b0e88f7",
   "metadata": {
    "execution": {
     "iopub.execute_input": "2024-09-05T18:48:23.346021Z",
     "iopub.status.busy": "2024-09-05T18:48:23.344857Z",
     "iopub.status.idle": "2024-09-05T18:48:23.353693Z",
     "shell.execute_reply": "2024-09-05T18:48:23.352601Z"
    },
    "papermill": {
     "duration": 0.017004,
     "end_time": "2024-09-05T18:48:23.356255",
     "exception": false,
     "start_time": "2024-09-05T18:48:23.339251",
     "status": "completed"
    },
    "tags": []
   },
   "outputs": [],
   "source": [
    "def score(solution: np.ndarray, submission: np.ndarray, min_tpr: float=0.80) -> float:\n",
    "    v_gt = abs(solution-1)\n",
    "    v_pred = np.array([1.0 - x for x in submission])\n",
    "    max_fpr = abs(1-min_tpr)\n",
    "    partial_auc_scaled = roc_auc_score(v_gt, v_pred, max_fpr=max_fpr)\n",
    "    partial_auc = 0.5 * max_fpr**2 + (max_fpr - 0.5 * max_fpr**2) / (1.0 - 0.5) * (partial_auc_scaled - 0.5)\n",
    "    return(partial_auc)\n",
    "\n",
    "def pauc_80(preds, data):\n",
    "    score_value = score(data.get_label(), preds, min_tpr=0.8)\n",
    "    return 'pauc_80', score_value, True"
   ]
  },
  {
   "cell_type": "code",
   "execution_count": 3,
   "id": "390a6652",
   "metadata": {
    "execution": {
     "iopub.execute_input": "2024-09-05T18:48:23.366971Z",
     "iopub.status.busy": "2024-09-05T18:48:23.366520Z",
     "iopub.status.idle": "2024-09-05T18:48:41.256362Z",
     "shell.execute_reply": "2024-09-05T18:48:41.255236Z"
    },
    "papermill": {
     "duration": 17.899499,
     "end_time": "2024-09-05T18:48:41.260025",
     "exception": false,
     "start_time": "2024-09-05T18:48:23.360526",
     "status": "completed"
    },
    "tags": []
   },
   "outputs": [
    {
     "name": "stderr",
     "output_type": "stream",
     "text": [
      "/tmp/ipykernel_17/3679705059.py:5: FutureWarning: Downcasting behavior in `replace` is deprecated and will be removed in a future version. To retain the old behavior, explicitly call `result.infer_objects(copy=False)`. To opt-in to the future behavior, set `pd.set_option('future.no_silent_downcasting', True)`\n",
      "  df_test1['anatom_site_general'] = df_test1['anatom_site_general'].replace({'lower extremity': 0, 'head/neck': 1, 'posterior torso': 2, 'anterior torso': 3, 'upper extremity': 4, 'Unknown': 5}, regex=True)\n"
     ]
    },
    {
     "name": "stdout",
     "output_type": "stream",
     "text": [
      "['isic_id', 'target', 'anatom_site_general', 'clin_size_long_diam_mm', 'tbp_tile_type', 'tbp_lv_A', 'tbp_lv_B', 'tbp_lv_C', 'tbp_lv_H', 'tbp_lv_L', 'tbp_lv_areaMM2', 'tbp_lv_area_perim_ratio', 'tbp_lv_minorAxisMM', 'tbp_lv_nevi_confidence', 'tbp_lv_norm_border', 'tbp_lv_norm_color', 'tbp_lv_perimeterMM', 'tbp_lv_stdL']\n"
     ]
    },
    {
     "name": "stderr",
     "output_type": "stream",
     "text": [
      "/tmp/ipykernel_17/3679705059.py:6: FutureWarning: Downcasting behavior in `replace` is deprecated and will be removed in a future version. To retain the old behavior, explicitly call `result.infer_objects(copy=False)`. To opt-in to the future behavior, set `pd.set_option('future.no_silent_downcasting', True)`\n",
      "  df_test1['tbp_tile_type'] = df_test1['tbp_tile_type'].replace({'3D: white': 0, '3D: XP': 1}, regex=True)\n"
     ]
    }
   ],
   "source": [
    "# Setting up features and target\n",
    "df_raw = pd.read_csv(\"/kaggle/input/isic-2024-challenge/train-metadata.csv\", low_memory=False)\n",
    "df_test1 = df_raw.drop(['patient_id', 'age_approx', 'sex', 'image_type', 'tbp_lv_Aext', 'tbp_lv_Bext', 'tbp_lv_Cext', 'tbp_lv_Hext', 'tbp_lv_Lext', 'tbp_lv_stdLExt', 'tbp_lv_color_std_mean', 'tbp_lv_deltaA', 'tbp_lv_deltaB', 'tbp_lv_deltaL', 'tbp_lv_deltaLBnorm', 'tbp_lv_eccentricity', 'tbp_lv_location', 'tbp_lv_location_simple', 'tbp_lv_radial_color_std_max', 'tbp_lv_symm_2axis', 'tbp_lv_symm_2axis_angle', 'tbp_lv_x', 'tbp_lv_y', 'tbp_lv_z', 'attribution', 'copyright_license', 'lesion_id', 'iddx_full', 'iddx_1', 'iddx_2', 'iddx_3', 'iddx_4', 'iddx_5', 'mel_mitotic_index', 'mel_thick_mm', 'tbp_lv_dnn_lesion_confidence', 'tbp_lv_deltaLB'], axis=1)\n",
    "df_test1['anatom_site_general'] = df_test1['anatom_site_general'].fillna('Unknown')\n",
    "df_test1['anatom_site_general'] = df_test1['anatom_site_general'].replace({'lower extremity': 0, 'head/neck': 1, 'posterior torso': 2, 'anterior torso': 3, 'upper extremity': 4, 'Unknown': 5}, regex=True)\n",
    "df_test1['tbp_tile_type'] = df_test1['tbp_tile_type'].replace({'3D: white': 0, '3D: XP': 1}, regex=True)\n",
    "cat_columns = ['anatom_site_general', 'tbp_tile_type']\n",
    "columns_list = df_test1[cat_columns].columns.tolist()\n",
    "\n",
    "data = df_test1.columns.values.tolist()\n",
    "print (data)\n",
    "\n",
    "exclude = ['isic_id', 'target']\n",
    "input = [i for i in data if i not in exclude]\n",
    "\n",
    "X = df_test1[input]\n",
    "y = df_test1['target']"
   ]
  },
  {
   "cell_type": "code",
   "execution_count": 4,
   "id": "ea5c87b3",
   "metadata": {
    "execution": {
     "iopub.execute_input": "2024-09-05T18:48:41.270362Z",
     "iopub.status.busy": "2024-09-05T18:48:41.269950Z",
     "iopub.status.idle": "2024-09-05T18:48:41.275300Z",
     "shell.execute_reply": "2024-09-05T18:48:41.274284Z"
    },
    "papermill": {
     "duration": 0.013218,
     "end_time": "2024-09-05T18:48:41.277635",
     "exception": false,
     "start_time": "2024-09-05T18:48:41.264417",
     "status": "completed"
    },
    "tags": []
   },
   "outputs": [],
   "source": [
    "# Create Dataset for LightGBM\n",
    "train_df_dataset = lgb.Dataset(\n",
    "X,\n",
    "y,\n",
    "categorical_feature=[0,2],  # Ensure categorical features are correctly specified\n",
    "free_raw_data=False\n",
    ")"
   ]
  },
  {
   "cell_type": "code",
   "execution_count": 5,
   "id": "4338a47f",
   "metadata": {
    "execution": {
     "iopub.execute_input": "2024-09-05T18:48:41.288116Z",
     "iopub.status.busy": "2024-09-05T18:48:41.287692Z",
     "iopub.status.idle": "2024-09-05T18:48:41.294021Z",
     "shell.execute_reply": "2024-09-05T18:48:41.292860Z"
    },
    "papermill": {
     "duration": 0.014258,
     "end_time": "2024-09-05T18:48:41.296289",
     "exception": false,
     "start_time": "2024-09-05T18:48:41.282031",
     "status": "completed"
    },
    "tags": []
   },
   "outputs": [],
   "source": [
    "# Lgb parameters\n",
    "lgb_params = {\n",
    "'objective': 'binary',\n",
    "'metric': 'none',  # Use a standard metric for evaluation\n",
    "'verbose': -1,\n",
    "'learning_rate': 0.01,  # Increase if model is converging too slowly\n",
    "'num_leaves': 15,  # Reduce for simpler models\n",
    "'min_data_in_leaf': 90,  # Increase to prevent overfitting\n",
    "'pos_bagging_fraction': 0.9,  # Adjust based on variance\n",
    "'neg_bagging_fraction': 0.05,  # Adjust based on variance\n",
    "'bagging_freq': 1,  # Reduce or disable if bagging is not helping\n",
    "'feature_fraction': 0.7,  # Increase to use more features\n",
    "'lambda_l1': 0.5,  # Keep low or 0 if L1 regularization is not needed\n",
    "'lambda_l2': 0.1,  # Keep low or 0 if L2 regularization is not needed\n",
    "'n_jobs' : 4\n",
    "} "
   ]
  },
  {
   "cell_type": "code",
   "execution_count": 6,
   "id": "c49cb85b",
   "metadata": {
    "execution": {
     "iopub.execute_input": "2024-09-05T18:48:41.307261Z",
     "iopub.status.busy": "2024-09-05T18:48:41.306833Z",
     "iopub.status.idle": "2024-09-05T18:52:44.964455Z",
     "shell.execute_reply": "2024-09-05T18:52:44.963154Z"
    },
    "papermill": {
     "duration": 243.666438,
     "end_time": "2024-09-05T18:52:44.967265",
     "exception": false,
     "start_time": "2024-09-05T18:48:41.300827",
     "status": "completed"
    },
    "tags": []
   },
   "outputs": [
    {
     "name": "stdout",
     "output_type": "stream",
     "text": [
      "Training until validation scores don't improve for 50 rounds\n",
      "[30]\tcv_agg's valid pauc_80: 0.139051 + 0.017825\n",
      "[60]\tcv_agg's valid pauc_80: 0.140657 + 0.0163568\n",
      "[90]\tcv_agg's valid pauc_80: 0.141832 + 0.016202\n",
      "[120]\tcv_agg's valid pauc_80: 0.14391 + 0.0165057\n",
      "[150]\tcv_agg's valid pauc_80: 0.14536 + 0.0160972\n",
      "[180]\tcv_agg's valid pauc_80: 0.145949 + 0.0159286\n",
      "[210]\tcv_agg's valid pauc_80: 0.146391 + 0.01608\n",
      "[240]\tcv_agg's valid pauc_80: 0.146918 + 0.015596\n",
      "[270]\tcv_agg's valid pauc_80: 0.147033 + 0.0156289\n",
      "[300]\tcv_agg's valid pauc_80: 0.147743 + 0.0152549\n",
      "[330]\tcv_agg's valid pauc_80: 0.148066 + 0.0151779\n",
      "[360]\tcv_agg's valid pauc_80: 0.148544 + 0.0149001\n",
      "[390]\tcv_agg's valid pauc_80: 0.148709 + 0.0147007\n",
      "[420]\tcv_agg's valid pauc_80: 0.148609 + 0.0148113\n",
      "[450]\tcv_agg's valid pauc_80: 0.148724 + 0.0146971\n",
      "[480]\tcv_agg's valid pauc_80: 0.148911 + 0.0145892\n",
      "[510]\tcv_agg's valid pauc_80: 0.149049 + 0.0146037\n",
      "[540]\tcv_agg's valid pauc_80: 0.149076 + 0.0145135\n",
      "[570]\tcv_agg's valid pauc_80: 0.149051 + 0.0145084\n",
      "[600]\tcv_agg's valid pauc_80: 0.149052 + 0.014374\n",
      "Early stopping, best iteration is:\n",
      "[561]\tcv_agg's valid pauc_80: 0.149184 + 0.0144825\n"
     ]
    }
   ],
   "source": [
    "kf = StratifiedKFold()\n",
    "\n",
    "cv_results = lgb.cv(\n",
    "    lgb_params,\n",
    "    train_df_dataset,\n",
    "    folds=kf.split(X, y),\n",
    "    feval=pauc_80,\n",
    "    num_boost_round=1000,\n",
    "    callbacks=[\n",
    "        lgb.early_stopping(stopping_rounds=50), \n",
    "        lgb.log_evaluation(30)\n",
    "    ],\n",
    "    stratified=True,\n",
    "    return_cvbooster=True,\n",
    ")"
   ]
  },
  {
   "cell_type": "code",
   "execution_count": 7,
   "id": "8ddbbcb1",
   "metadata": {
    "execution": {
     "iopub.execute_input": "2024-09-05T18:52:44.983098Z",
     "iopub.status.busy": "2024-09-05T18:52:44.981815Z",
     "iopub.status.idle": "2024-09-05T18:52:45.010165Z",
     "shell.execute_reply": "2024-09-05T18:52:45.008991Z"
    },
    "papermill": {
     "duration": 0.03972,
     "end_time": "2024-09-05T18:52:45.013612",
     "exception": false,
     "start_time": "2024-09-05T18:52:44.973892",
     "status": "completed"
    },
    "tags": []
   },
   "outputs": [
    {
     "name": "stdout",
     "output_type": "stream",
     "text": [
      "['anatom_site_general', 'clin_size_long_diam_mm', 'tbp_tile_type', 'tbp_lv_A', 'tbp_lv_B', 'tbp_lv_C', 'tbp_lv_H', 'tbp_lv_L', 'tbp_lv_areaMM2', 'tbp_lv_area_perim_ratio', 'tbp_lv_minorAxisMM', 'tbp_lv_nevi_confidence', 'tbp_lv_norm_border', 'tbp_lv_norm_color', 'tbp_lv_perimeterMM', 'tbp_lv_stdL']\n"
     ]
    },
    {
     "name": "stderr",
     "output_type": "stream",
     "text": [
      "/tmp/ipykernel_17/274080358.py:4: FutureWarning: Downcasting behavior in `replace` is deprecated and will be removed in a future version. To retain the old behavior, explicitly call `result.infer_objects(copy=False)`. To opt-in to the future behavior, set `pd.set_option('future.no_silent_downcasting', True)`\n",
      "  df_test['anatom_site_general'] = df_test['anatom_site_general'].replace({'lower extremity': 0, 'head/neck': 1, 'posterior torso': 2, 'anterior torso': 3, 'upper extremity': 4, 'Unknown': 5}, regex=True)\n",
      "/tmp/ipykernel_17/274080358.py:5: FutureWarning: Downcasting behavior in `replace` is deprecated and will be removed in a future version. To retain the old behavior, explicitly call `result.infer_objects(copy=False)`. To opt-in to the future behavior, set `pd.set_option('future.no_silent_downcasting', True)`\n",
      "  df_test['tbp_tile_type'] = df_test['tbp_tile_type'].replace({'3D: white': 0, '3D: XP': 1}, regex=True)\n"
     ]
    }
   ],
   "source": [
    "df_test_real = pd.read_csv(\"/kaggle/input/isic-2024-challenge/test-metadata.csv\", low_memory=False)\n",
    "df_test = df_test_real.drop(['isic_id', 'patient_id', 'age_approx', 'sex', 'image_type', 'tbp_lv_Aext', 'tbp_lv_Bext', 'tbp_lv_Cext', 'tbp_lv_Hext', 'tbp_lv_Lext', 'tbp_lv_stdLExt', 'tbp_lv_color_std_mean', 'tbp_lv_deltaA', 'tbp_lv_deltaB', 'tbp_lv_deltaL', 'tbp_lv_deltaLBnorm', 'tbp_lv_eccentricity', 'tbp_lv_location', 'tbp_lv_location_simple', 'tbp_lv_radial_color_std_max', 'tbp_lv_symm_2axis', 'tbp_lv_symm_2axis_angle', 'tbp_lv_x', 'tbp_lv_y', 'tbp_lv_z', 'attribution', 'copyright_license', 'tbp_lv_deltaLB'], axis=1)\n",
    "df_test['anatom_site_general'] = df_test['anatom_site_general'].fillna('Unknown')\n",
    "df_test['anatom_site_general'] = df_test['anatom_site_general'].replace({'lower extremity': 0, 'head/neck': 1, 'posterior torso': 2, 'anterior torso': 3, 'upper extremity': 4, 'Unknown': 5}, regex=True)\n",
    "df_test['tbp_tile_type'] = df_test['tbp_tile_type'].replace({'3D: white': 0, '3D: XP': 1}, regex=True)\n",
    "df_temp = df_test_real.drop(['patient_id', 'age_approx', 'sex', 'image_type', 'tbp_lv_Aext', 'tbp_lv_Bext', 'tbp_lv_Cext', 'tbp_lv_Hext', 'tbp_lv_Lext', 'tbp_lv_stdLExt', 'tbp_lv_color_std_mean', 'tbp_lv_deltaA', 'tbp_lv_deltaB', 'tbp_lv_deltaL', 'tbp_lv_deltaLBnorm', 'tbp_lv_eccentricity', 'tbp_lv_location', 'tbp_lv_location_simple', 'tbp_lv_radial_color_std_max', 'tbp_lv_symm_2axis', 'tbp_lv_symm_2axis_angle', 'tbp_lv_x', 'tbp_lv_y', 'tbp_lv_z', 'attribution', 'copyright_license', 'tbp_lv_deltaLB'], axis=1)\n",
    "                             \n",
    "data = df_test.columns.values.tolist()\n",
    "print (data)"
   ]
  },
  {
   "cell_type": "code",
   "execution_count": 8,
   "id": "b69fb469",
   "metadata": {
    "execution": {
     "iopub.execute_input": "2024-09-05T18:52:45.029385Z",
     "iopub.status.busy": "2024-09-05T18:52:45.028358Z",
     "iopub.status.idle": "2024-09-05T18:52:45.040233Z",
     "shell.execute_reply": "2024-09-05T18:52:45.039187Z"
    },
    "papermill": {
     "duration": 0.023001,
     "end_time": "2024-09-05T18:52:45.043199",
     "exception": false,
     "start_time": "2024-09-05T18:52:45.020198",
     "status": "completed"
    },
    "tags": []
   },
   "outputs": [],
   "source": [
    "models = cv_results['cvbooster'].boosters\n",
    "pred_per_cv = [model.predict(df_test) for model in models]\n",
    "pred_average = np.array(pred_per_cv).mean(axis=0)"
   ]
  },
  {
   "cell_type": "code",
   "execution_count": 9,
   "id": "303742d5",
   "metadata": {
    "execution": {
     "iopub.execute_input": "2024-09-05T18:52:45.058726Z",
     "iopub.status.busy": "2024-09-05T18:52:45.058271Z",
     "iopub.status.idle": "2024-09-05T18:52:45.073679Z",
     "shell.execute_reply": "2024-09-05T18:52:45.072636Z"
    },
    "papermill": {
     "duration": 0.025852,
     "end_time": "2024-09-05T18:52:45.076111",
     "exception": false,
     "start_time": "2024-09-05T18:52:45.050259",
     "status": "completed"
    },
    "tags": []
   },
   "outputs": [
    {
     "name": "stdout",
     "output_type": "stream",
     "text": [
      "        isic_id    target\n",
      "0  ISIC_0015657  0.001229\n",
      "1  ISIC_0015729  0.000465\n",
      "2  ISIC_0015740  0.002764\n"
     ]
    }
   ],
   "source": [
    "submission_df = pd.DataFrame({'isic_id':df_temp['isic_id'].tolist(), 'target':pred_average})\n",
    "submission_df.to_csv(\"submission.csv\", index=False)\n",
    "print (submission_df.head())"
   ]
  }
 ],
 "metadata": {
  "kaggle": {
   "accelerator": "none",
   "dataSources": [
    {
     "databundleVersionId": 9094797,
     "sourceId": 63056,
     "sourceType": "competition"
    }
   ],
   "isGpuEnabled": false,
   "isInternetEnabled": false,
   "language": "python",
   "sourceType": "notebook"
  },
  "kernelspec": {
   "display_name": "Python 3",
   "language": "python",
   "name": "python3"
  },
  "language_info": {
   "codemirror_mode": {
    "name": "ipython",
    "version": 3
   },
   "file_extension": ".py",
   "mimetype": "text/x-python",
   "name": "python",
   "nbconvert_exporter": "python",
   "pygments_lexer": "ipython3",
   "version": "3.10.14"
  },
  "papermill": {
   "default_parameters": {},
   "duration": 269.688015,
   "end_time": "2024-09-05T18:52:46.006173",
   "environment_variables": {},
   "exception": null,
   "input_path": "__notebook__.ipynb",
   "output_path": "__notebook__.ipynb",
   "parameters": {},
   "start_time": "2024-09-05T18:48:16.318158",
   "version": "2.6.0"
  }
 },
 "nbformat": 4,
 "nbformat_minor": 5
}
